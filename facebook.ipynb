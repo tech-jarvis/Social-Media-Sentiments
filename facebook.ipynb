{
 "cells": [
  {
   "cell_type": "code",
   "execution_count": 1,
   "metadata": {},
   "outputs": [],
   "source": [
    "# !pip install facebook-scraper"
   ]
  },
  {
   "cell_type": "code",
   "execution_count": 11,
   "metadata": {},
   "outputs": [
    {
     "name": "stderr",
     "output_type": "stream",
     "text": [
      "f:\\Fabtechsol\\Social_Media_BOTS-main\\.venv\\Lib\\site-packages\\tqdm\\auto.py:21: TqdmWarning: IProgress not found. Please update jupyter and ipywidgets. See https://ipywidgets.readthedocs.io/en/stable/user_install.html\n",
      "  from .autonotebook import tqdm as notebook_tqdm\n"
     ]
    }
   ],
   "source": [
    "import pandas as pd\n",
    "import facebook_scraper as fs"
   ]
  },
  {
   "cell_type": "code",
   "execution_count": 87,
   "metadata": {},
   "outputs": [
    {
     "name": "stderr",
     "output_type": "stream",
     "text": [
      " 95%|█████████▌| 120/126 [00:04<00:00, 26.62it/s]\n",
      " 88%|████████▊ | 30/34 [00:00<00:00, 61.72it/s]\n"
     ]
    },
    {
     "name": "stdout",
     "output_type": "stream",
     "text": [
      "     post_index  comment_index         commenter_name  \\\n",
      "0             0              0         Mateeba Naveed   \n",
      "1             0              1            Zidi Zohaib   \n",
      "2             0              2  Zahid Khan Guddu Khan   \n",
      "3             0              3     Mobin Abbas Mughal   \n",
      "4             0              4            Safder Khan   \n",
      "..          ...            ...                    ...   \n",
      "126           1             22               Ali Shah   \n",
      "127           1             23          Tasneem Memon   \n",
      "128           1             24          『 𝐇𝐚𝐬𝐬𝐚𝐧 』⸙ 🩷   \n",
      "129           1             25           Syeda Sabiha   \n",
      "130           1             26            Malang Khan   \n",
      "\n",
      "                                          comment_text  \n",
      "0                                              Bilkul♥  \n",
      "1                                               Beshak  \n",
      "2                                               Beshak  \n",
      "3    Bibi Fatima s.a ki zindagi ko apnayen unky ama...  \n",
      "4                                         In sha Allah  \n",
      "..                                                 ...  \n",
      "126                                    Inshallah Ameen  \n",
      "127                                        InshaAallah  \n",
      "128                                                 ❤️  \n",
      "129                    Hayeeee🙊🙊❣️❣️\\n💞Inshallah♥️♥️♥️  \n",
      "130                              انشاءآلله❤❤الله آمین.  \n",
      "\n",
      "[131 rows x 4 columns]\n"
     ]
    }
   ],
   "source": [
    "# List of post links\n",
    "POST_IDS = [\"https://www.facebook.com/photo?fbid=615932340711500&set=a.205940878377317\",\n",
    "           \"https://www.facebook.com/photo/?fbid=616159327355468&set=a.205940878377317\"]\n",
    "\n",
    "# Number of comments to download (set this to True to download all comments)\n",
    "MAX_COMMENTS = True\n",
    "\n",
    "# Create a list to store all comments data\n",
    "all_comments_data = []\n",
    "\n",
    "# Process comments for each post\n",
    "for post_index, post_id in enumerate(POST_IDS):\n",
    "    # Get the post (this gives a generator)\n",
    "    gen = fs.get_posts(\n",
    "        post_urls=[post_id],\n",
    "        options={\"comments\": MAX_COMMENTS, \"progress\": True}\n",
    "    )\n",
    "\n",
    "    # Take the 1st element of the generator which is the post we requested\n",
    "    post = next(gen)\n",
    "\n",
    "    # Extract the comments part\n",
    "    comments = post['comments_full']\n",
    "\n",
    "    # Process comments for this post\n",
    "    for comment_index, comment in enumerate(comments):\n",
    "        commenter_name = comment['commenter_name']\n",
    "        comment_text = comment['comment_text']\n",
    "\n",
    "        # Append comment data to the list with numbering\n",
    "        all_comments_data.append({'post_index': post_index, 'comment_index': comment_index, 'commenter_name': commenter_name, 'comment_text': comment_text})\n",
    "\n",
    "# Create a DataFrame\n",
    "df = pd.DataFrame(all_comments_data)\n",
    "\n",
    "# Print the DataFrame\n",
    "print(df)\n"
   ]
  },
  {
   "cell_type": "code",
   "execution_count": 8,
   "metadata": {},
   "outputs": [
    {
     "name": "stdout",
     "output_type": "stream",
     "text": [
      "_\n"
     ]
    }
   ],
   "source": [
    "# path = \"https://www.facebook.com/photo/?fbid=328648886390297&set=a.161621023093085\"\n",
    "# s = path\n",
    "# s=s[s.find('m')+2:]+\"azezea\"\n",
    "# new=\"\"\n",
    "# for i in range(len(s)):\n",
    "#     if s[i] in [\"0\",\"1\",\"2\",\"3\",\"4\",\"5\",\"6\",\"7\",\"8\",\"9\"] :\n",
    "#         new=new+s[i]\n",
    "#     if s[i] not in [\"0\",\"1\",\"2\",\"3\",\"4\",\"5\",\"6\",\"7\",\"8\",\"9\"] :\n",
    "#         break   \n",
    "# new2= \"\"\n",
    "# new1= \"\"\n",
    "# for i in range(len(s)): \n",
    "#     if s[i] in [\"/\"] and s[i+1] in [\"0\",\"1\",\"2\",\"3\",\"4\",\"5\",\"6\",\"7\",\"8\",\"9\"] : \n",
    "#         new2=s[i+1:]\n",
    "#         for j in range(len(new2)) :\n",
    "#             if new2[j] in [\"0\",\"1\",\"2\",\"3\",\"4\",\"5\",\"6\",\"7\",\"8\",\"9\"] :\n",
    "#                 new1=new1+new2[j]\n",
    "# path=new + \"_\" + new1\n",
    "\n",
    "# print(path)"
   ]
  },
  {
   "cell_type": "code",
   "execution_count": 73,
   "metadata": {},
   "outputs": [],
   "source": [
    "# # get POST_ID from the URL of the post which can have the following structure:\n",
    "# # https://www.facebook.com/USER/posts/POST_ID\n",
    "# # https://www.facebook.com/groups/GROUP_ID/posts/POST_ID\n",
    "# POST_ID = [\"https://www.facebook.com/photo?fbid=615932340711500&set=a.205940878377317\",\n",
    "#            \"https://www.facebook.com/photo/?fbid=616159327355468&set=a.205940878377317\"]\n",
    "\n",
    "# # \"2Fpfbid0kyGS7Weahxt41xP5zPeGbaw7GhwwPDavJBjUpLQzzGyubL9xT4V5BWmqx74oUP3Yl\"\n",
    "\n",
    "\n",
    "# # \"pfbid02NsuAiBU9o1ouwBrw1vYAQ7khcVXvz8F8zMvkVat9UJ6uiwdgojgddQRLpXcVBqYbl\"\n",
    "\n",
    "\n",
    "# # number of comments to download -- set this to True to download all comments\n",
    "# MAX_COMMENTS = True"
   ]
  },
  {
   "cell_type": "code",
   "execution_count": 79,
   "metadata": {},
   "outputs": [
    {
     "name": "stderr",
     "output_type": "stream",
     "text": [
      "90it [00:02, 32.17it/s]                        \n"
     ]
    },
    {
     "name": "stdout",
     "output_type": "stream",
     "text": [
      "{'original_request_url': 'https://www.facebook.com/photo?fbid=615932340711500&set=a.205940878377317', 'post_url': 'https://m.facebook.com/pfbid0ZVJp7zfuuTS3DoYGspCbUwcaVn4MQQy45vXuut2kMpdPkBoqscktKynCvNrGkTS8l', 'post_id': 'pfbid0ZVJp7zfuuTS3DoYGspCbUwcaVn4MQQy45vXuut2kMpdPkBoqscktKynCvNrGkTS8l', 'text': '𝐉𝐨𝐡𝐧 𝐄𝐥𝐢𝐚 𝐩𝐨𝐞𝐭𝐫𝐲\\n\\n🥀🍃💕🤍💕🌿✨️\\n..\\n..\\n..\\n..\\n.\\n#writes\\n#islamabadbeauty\\nofpakistan #Islamabad\\n#islamicrepublic\\nofpakistan #pakistan #beautifuldestin\\nations #jouneliapoetry\\n#beauty #blogger #bloggersofinsta\\ngram #margallahills #mountains #li #dawndotcom #morning #northernareasof\\npakistan #rain #winter #islamabad #lahore #trending #rain #etribune #potraitphotogra\\nphy #mountainview #lhr\\n#LahoreRang #Lahore #lahorephotograp\\nhy', 'post_text': '𝐉𝐨𝐡𝐧 𝐄𝐥𝐢𝐚 𝐩𝐨𝐞𝐭𝐫𝐲\\n\\n🥀🍃💕🤍💕🌿✨️\\n..\\n..\\n..\\n..\\n.\\n#writes\\n#islamabadbeauty\\nofpakistan #Islamabad\\n#islamicrepublic\\nofpakistan #pakistan #beautifuldestin\\nations #jouneliapoetry\\n#beauty #blogger #bloggersofinsta\\ngram #margallahills #mountains #li #dawndotcom #morning #northernareasof\\npakistan #rain #winter #islamabad #lahore #trending #rain #etribune #potraitphotogra\\nphy #mountainview #lhr\\n#LahoreRang #Lahore #lahorephotograp\\nhy', 'shared_text': None, 'original_text': None, 'time': datetime.datetime(2023, 9, 4, 21, 0), 'timestamp': None, 'image': 'https://m.facebook.com/photo/view_full_size/?fbid=615932340711500&ref_component=mbasic_photo_permalink&ref_page=%2Fwap%2Fphoto.php&__tn__=%2Cg', 'image_lowquality': 'https://scontent.fskt7-1.fna.fbcdn.net/v/t39.30808-6/372074249_615863170718417_9210161580419370332_n.jpg?stp=cp0_dst-jpg_e15_p320x320_q65&_nc_cat=1&ccb=1-7&_nc_sid=6b662e&_nc_ohc=YOy7Z_YhU5MAX8OuENv&_nc_ht=scontent.fskt7-1.fna&oh=00_AfBhic2GjfiSiERbFojEllUmzpwAFbveOuoOD8AHkd-JUw&oe=64FBAE23', 'images': ['https://m.facebook.com/photo/view_full_size/?fbid=615932340711500&ref_component=mbasic_photo_permalink&ref_page=%2Fwap%2Fphoto.php&__tn__=%2Cg'], 'images_description': ['شاید \\u200fمتن\\u200f کی میم ہو', None], 'images_lowquality': ['https://scontent.fskt7-1.fna.fbcdn.net/v/t39.30808-6/372074249_615863170718417_9210161580419370332_n.jpg?stp=cp0_dst-jpg_e15_p320x320_q65&_nc_cat=1&ccb=1-7&_nc_sid=6b662e&_nc_ohc=YOy7Z_YhU5MAX8OuENv&_nc_ht=scontent.fskt7-1.fna&oh=00_AfBhic2GjfiSiERbFojEllUmzpwAFbveOuoOD8AHkd-JUw&oe=64FBAE23', 'https://facebook.com/security/hsts-pixel.gif?c=3.2'], 'images_lowquality_description': ['شاید \\u200fمتن\\u200f کی میم ہو', None], 'video': None, 'video_duration_seconds': None, 'video_height': None, 'video_id': None, 'video_quality': None, 'video_size_MB': None, 'video_thumbnail': None, 'video_watches': None, 'video_width': None, 'likes': 16317, 'comments': 90, 'shares': 104, 'link': None, 'links': [], 'user_id': None, 'username': '𝐉𝐨𝐡𝐧 𝐄𝐥𝐢𝐚 𝐩𝐨𝐞𝐭𝐫𝐲', 'user_url': 'https://facebook.com/johneliapoetry12?__tn__=%2Cg', 'is_live': False, 'factcheck': None, 'shared_post_id': None, 'shared_time': None, 'shared_user_id': None, 'shared_username': None, 'shared_post_url': None, 'available': True, 'comments_full': [{'comment_id': '955813295488528', 'comment_url': 'https://facebook.com/955813295488528', 'commenter_id': '100075316941031', 'commenter_url': None, 'commenter_name': 'Fareeha Aniq', 'commenter_meta': None, 'comment_text': 'Bibi Fatima RA. jesa to koi nahi ho sakta..... Allah Pak hamen un ki ghulami men qubool farmay... Or un ki taleemat per chalny ki tofeeq day..... Ameen', 'comment_time': None, 'comment_image': None, 'comment_reactors': [], 'comment_reactions': None, 'comment_reaction_count': None, 'replies': [{'comment_id': '1024682948701934', 'comment_url': 'https://facebook.com/1024682948701934', 'commenter_id': '100009424549173', 'commenter_url': None, 'commenter_name': 'Taiyab Qureshi', 'commenter_meta': None, 'comment_text': 'Fareeha Aniq\\nAameen', 'comment_time': datetime.datetime(2023, 9, 4, 23, 47), 'comment_image': None, 'comment_reactors': [], 'comment_reactions': None, 'comment_reaction_count': None}]}, {'comment_id': '260830123499905', 'comment_url': 'https://facebook.com/260830123499905', 'commenter_id': '100035266730819', 'commenter_url': None, 'commenter_name': 'Zahid Khan Guddu Khan', 'commenter_meta': None, 'comment_text': 'Beshak', 'comment_time': None, 'comment_image': None, 'comment_reactors': [], 'comment_reactions': None, 'comment_reaction_count': None, 'replies': []}, {'comment_id': '1344097662844974', 'comment_url': 'https://facebook.com/1344097662844974', 'commenter_id': '100062209387180', 'commenter_url': None, 'commenter_name': 'Zidi Zohaib', 'commenter_meta': None, 'comment_text': 'Beshak', 'comment_time': None, 'comment_image': None, 'comment_reactors': [], 'comment_reactions': None, 'comment_reaction_count': None, 'replies': []}, {'comment_id': '685980646714149', 'comment_url': 'https://facebook.com/685980646714149', 'commenter_id': '100022014413074', 'commenter_url': None, 'commenter_name': 'Hamza Hadayat', 'commenter_meta': None, 'comment_text': 'Beshak ❤️', 'comment_time': None, 'comment_image': None, 'comment_reactors': [], 'comment_reactions': None, 'comment_reaction_count': None, 'replies': []}, {'comment_id': '2946275732175527', 'comment_url': 'https://facebook.com/2946275732175527', 'commenter_id': '100003095585539', 'commenter_url': None, 'commenter_name': 'Hamad Ahmad', 'commenter_meta': None, 'comment_text': 'Beshak', 'comment_time': datetime.datetime(2023, 9, 4, 23, 1), 'comment_image': None, 'comment_reactors': [], 'comment_reactions': None, 'comment_reaction_count': None, 'replies': []}, {'comment_id': '844029753671948', 'comment_url': 'https://facebook.com/844029753671948', 'commenter_id': '100033697367976', 'commenter_url': None, 'commenter_name': 'Israr Sari Minhas', 'commenter_meta': None, 'comment_text': 'Beshak', 'comment_time': None, 'comment_image': None, 'comment_reactors': [], 'comment_reactions': None, 'comment_reaction_count': None, 'replies': []}, {'comment_id': '317668870645199', 'comment_url': 'https://facebook.com/317668870645199', 'commenter_id': '100071961668846', 'commenter_url': None, 'commenter_name': 'Zain Shamsi', 'commenter_meta': None, 'comment_text': 'Inshallah❤', 'comment_time': datetime.datetime(2023, 9, 4, 23, 0), 'comment_image': None, 'comment_reactors': [], 'comment_reactions': None, 'comment_reaction_count': None, 'replies': []}, {'comment_id': '1055897198913410', 'comment_url': 'https://facebook.com/1055897198913410', 'commenter_id': '100051168948043', 'commenter_url': None, 'commenter_name': 'Malik Ji', 'commenter_meta': None, 'comment_text': 'Beshak', 'comment_time': None, 'comment_image': None, 'comment_reactors': [], 'comment_reactions': None, 'comment_reaction_count': None, 'replies': []}, {'comment_id': '1020542532419129', 'comment_url': 'https://facebook.com/1020542532419129', 'commenter_id': '100042447309725', 'commenter_url': None, 'commenter_name': 'Neelam Abid', 'commenter_meta': None, 'comment_text': 'Beshak', 'comment_time': None, 'comment_image': None, 'comment_reactors': [], 'comment_reactions': None, 'comment_reaction_count': None, 'replies': []}, {'comment_id': '666250135566499', 'comment_url': 'https://facebook.com/666250135566499', 'commenter_id': '100090914714093', 'commenter_url': None, 'commenter_name': 'Anees Awan', 'commenter_meta': None, 'comment_text': 'Beshak', 'comment_time': None, 'comment_image': None, 'comment_reactors': [], 'comment_reactions': None, 'comment_reaction_count': None, 'replies': []}, {'comment_id': '2774302696045457', 'comment_url': 'https://facebook.com/2774302696045457', 'commenter_id': '100019762968054', 'commenter_url': None, 'commenter_name': 'Bilal Bajwa', 'commenter_meta': None, 'comment_text': 'Beshak', 'comment_time': None, 'comment_image': None, 'comment_reactors': [], 'comment_reactions': None, 'comment_reaction_count': None, 'replies': []}, {'comment_id': '1550848588780641', 'comment_url': 'https://facebook.com/1550848588780641', 'commenter_id': '100050630701703', 'commenter_url': None, 'commenter_name': 'Muhammed Hurair Mazhar', 'commenter_meta': None, 'comment_text': 'Alhamdulilah esa hi bnana he🤲❤', 'comment_time': datetime.datetime(2023, 9, 4, 23, 54), 'comment_image': None, 'comment_reactors': [], 'comment_reactions': None, 'comment_reaction_count': None, 'replies': []}, {'comment_id': '1246949222642966', 'comment_url': 'https://facebook.com/1246949222642966', 'commenter_id': '100027911520397', 'commenter_url': None, 'commenter_name': 'Syed Daud Naqvi', 'commenter_meta': None, 'comment_text': 'Beshak', 'comment_time': None, 'comment_image': None, 'comment_reactors': [], 'comment_reactions': None, 'comment_reaction_count': None, 'replies': []}, {'comment_id': '173159749136745', 'comment_url': 'https://facebook.com/173159749136745', 'commenter_id': '100009875628656', 'commenter_url': None, 'commenter_name': 'Shami Abbasi', 'commenter_meta': None, 'comment_text': 'Beshak', 'comment_time': None, 'comment_image': None, 'comment_reactors': [], 'comment_reactions': None, 'comment_reaction_count': None, 'replies': []}, {'comment_id': '1057443872109128', 'comment_url': 'https://facebook.com/1057443872109128', 'commenter_id': '100079693624846', 'commenter_url': None, 'commenter_name': 'Muhammad Bilal', 'commenter_meta': None, 'comment_text': 'Beshak ❤', 'comment_time': None, 'comment_image': None, 'comment_reactors': [], 'comment_reactions': None, 'comment_reaction_count': None, 'replies': []}, {'comment_id': '6669291696495628', 'comment_url': 'https://facebook.com/6669291696495628', 'commenter_id': '100095145421806', 'commenter_url': None, 'commenter_name': 'Asad Malik', 'commenter_meta': None, 'comment_text': 'Bilkul', 'comment_time': None, 'comment_image': None, 'comment_reactors': [], 'comment_reactions': None, 'comment_reaction_count': None, 'replies': []}, {'comment_id': '1277133969837400', 'comment_url': 'https://facebook.com/1277133969837400', 'commenter_id': '100090912325478', 'commenter_url': None, 'commenter_name': 'Khalique Rehman', 'commenter_meta': None, 'comment_text': 'Beshak', 'comment_time': None, 'comment_image': None, 'comment_reactors': [], 'comment_reactions': None, 'comment_reaction_count': None, 'replies': []}, {'comment_id': '1327743808111200', 'comment_url': 'https://facebook.com/1327743808111200', 'commenter_id': '100069967492311', 'commenter_url': None, 'commenter_name': 'Haseeb Amjad', 'commenter_meta': None, 'comment_text': 'Beshak', 'comment_time': None, 'comment_image': None, 'comment_reactors': [], 'comment_reactions': None, 'comment_reaction_count': None, 'replies': []}, {'comment_id': '858348162291170', 'comment_url': 'https://facebook.com/858348162291170', 'commenter_id': '100070613382979', 'commenter_url': None, 'commenter_name': 'Engr Imran MaliCk', 'commenter_meta': None, 'comment_text': 'Beshak', 'comment_time': None, 'comment_image': None, 'comment_reactors': [], 'comment_reactions': None, 'comment_reaction_count': None, 'replies': []}, {'comment_id': '691864415707777', 'comment_url': 'https://facebook.com/691864415707777', 'commenter_id': '100090699819927', 'commenter_url': None, 'commenter_name': 'Mehar Hashim Ali', 'commenter_meta': None, 'comment_text': 'درست کہا', 'comment_time': datetime.datetime(2023, 9, 4, 23, 0), 'comment_image': None, 'comment_reactors': [], 'comment_reactions': None, 'comment_reaction_count': None, 'replies': []}, {'comment_id': '1295233881132656', 'comment_url': 'https://facebook.com/1295233881132656', 'commenter_id': '100095187340954', 'commenter_url': None, 'commenter_name': 'Anamta Sheikh', 'commenter_meta': None, 'comment_text': 'Ameen', 'comment_time': None, 'comment_image': None, 'comment_reactors': [], 'comment_reactions': None, 'comment_reaction_count': None, 'replies': []}, {'comment_id': '1461811711308082', 'comment_url': 'https://facebook.com/1461811711308082', 'commenter_id': '100087550531104', 'commenter_url': None, 'commenter_name': 'Shahzaib Mehar', 'commenter_meta': None, 'comment_text': 'UN jasa ni glt likha ha jis ny likha UN ki kanizo jasa ya un ky naqshy qadam pr chal ye wali banao plz dakh ky upload Kiya karye', 'comment_time': datetime.datetime(2023, 9, 4, 23, 0), 'comment_image': None, 'comment_reactors': [], 'comment_reactions': None, 'comment_reaction_count': None, 'replies': []}, {'comment_id': '1410425092835573', 'comment_url': 'https://facebook.com/1410425092835573', 'commenter_id': '61550129857867', 'commenter_url': None, 'commenter_name': 'Dur E Najaf Najaf', 'commenter_meta': None, 'comment_text': 'Beshak', 'comment_time': None, 'comment_image': None, 'comment_reactors': [], 'comment_reactions': None, 'comment_reaction_count': None, 'replies': []}, {'comment_id': '265781959684599', 'comment_url': 'https://facebook.com/265781959684599', 'commenter_id': '100094057407621', 'commenter_url': None, 'commenter_name': 'Minahil Khan', 'commenter_meta': None, 'comment_text': 'Beshak', 'comment_time': None, 'comment_image': None, 'comment_reactors': [], 'comment_reactions': None, 'comment_reaction_count': None, 'replies': []}, {'comment_id': '1301318830747806', 'comment_url': 'https://facebook.com/1301318830747806', 'commenter_id': '100089504356547', 'commenter_url': None, 'commenter_name': 'Bala Sultan', 'commenter_meta': None, 'comment_text': 'Bashak', 'comment_time': None, 'comment_image': None, 'comment_reactors': [], 'comment_reactions': None, 'comment_reaction_count': None, 'replies': []}, {'comment_id': '1754417541690009', 'comment_url': 'https://facebook.com/1754417541690009', 'commenter_id': '100091887177813', 'commenter_url': None, 'commenter_name': 'Sadia Ghouri', 'commenter_meta': None, 'comment_text': 'Bilkol theek', 'comment_time': None, 'comment_image': None, 'comment_reactors': [], 'comment_reactions': None, 'comment_reaction_count': None, 'replies': []}, {'comment_id': '209245791912841', 'comment_url': 'https://facebook.com/209245791912841', 'commenter_id': '100065036768834', 'commenter_url': None, 'commenter_name': 'Maqsood shaid sale and parchas in all products', 'commenter_meta': None, 'comment_text': 'Ameen', 'comment_time': None, 'comment_image': None, 'comment_reactors': [], 'comment_reactions': None, 'comment_reaction_count': None, 'replies': []}, {'comment_id': '1057722941779614', 'comment_url': 'https://facebook.com/1057722941779614', 'commenter_id': '100094521196609', 'commenter_url': None, 'commenter_name': 'Hy Ma Enna Sona', 'commenter_meta': None, 'comment_text': 'Beshak', 'comment_time': None, 'comment_image': None, 'comment_reactors': [], 'comment_reactions': None, 'comment_reaction_count': None, 'replies': []}, {'comment_id': '123348327525460', 'comment_url': 'https://facebook.com/123348327525460', 'commenter_id': '61550568642923', 'commenter_url': None, 'commenter_name': 'Maha Khan', 'commenter_meta': None, 'comment_text': 'Beshak', 'comment_time': None, 'comment_image': None, 'comment_reactors': [], 'comment_reactions': None, 'comment_reaction_count': None, 'replies': []}, {'comment_id': '642146878014329', 'comment_url': 'https://facebook.com/642146878014329', 'commenter_id': '100010509764363', 'commenter_url': None, 'commenter_name': 'Mehwish Siddiqui', 'commenter_meta': None, 'comment_text': 'Ameen.mashaAlla\\nh.......Har koi apne apko Kuch na Kuch samjh betha hai..apna culture apna Deen tak to bhool jaatay Hain log..ayse logo k liye jinka koi Deen emaan Nahi..Allah Pak hum sabko hidayat Aata farmaye.', 'comment_time': None, 'comment_image': None, 'comment_reactors': [], 'comment_reactions': None, 'comment_reaction_count': None, 'replies': []}, {'comment_id': '836092941337814', 'comment_url': 'https://facebook.com/836092941337814', 'commenter_id': '100004604770553', 'commenter_url': None, 'commenter_name': 'Pari Dua', 'commenter_meta': None, 'comment_text': 'Inshallah ameen', 'comment_time': None, 'comment_image': None, 'comment_reactors': [], 'comment_reactions': None, 'comment_reaction_count': None, 'replies': []}, {'comment_id': '660962295972620', 'comment_url': 'https://facebook.com/660962295972620', 'commenter_id': '100008191743089', 'commenter_url': None, 'commenter_name': 'Babar Hussain', 'commenter_meta': None, 'comment_text': 'سبحان اللہ', 'comment_time': None, 'comment_image': None, 'comment_reactors': [], 'comment_reactions': None, 'comment_reaction_count': None, 'replies': []}, {'comment_id': '347873234236628', 'comment_url': 'https://facebook.com/347873234236628', 'commenter_id': '100068596954137', 'commenter_url': None, 'commenter_name': 'M Mujtaba Mughal', 'commenter_meta': None, 'comment_text': 'Beshak', 'comment_time': datetime.datetime(2023, 9, 4, 23, 43), 'comment_image': None, 'comment_reactors': [], 'comment_reactions': None, 'comment_reaction_count': None, 'replies': []}, {'comment_id': '320735690370198', 'comment_url': 'https://facebook.com/320735690370198', 'commenter_id': '535634729', 'commenter_url': None, 'commenter_name': 'Usman Malik', 'commenter_meta': None, 'comment_text': 'Beshak', 'comment_time': None, 'comment_image': None, 'comment_reactors': [], 'comment_reactions': None, 'comment_reaction_count': None, 'replies': []}, {'comment_id': '9954961427879264', 'comment_url': 'https://facebook.com/9954961427879264', 'commenter_id': '100036688486069', 'commenter_url': None, 'commenter_name': 'Mirza Luqman Baig', 'commenter_meta': None, 'comment_text': 'Be-shak', 'comment_time': None, 'comment_image': None, 'comment_reactors': [], 'comment_reactions': None, 'comment_reaction_count': None, 'replies': []}, {'comment_id': '811007087474430', 'comment_url': 'https://facebook.com/811007087474430', 'commenter_id': '100080738114953', 'commenter_url': None, 'commenter_name': 'Zulqrnan Nawaz', 'commenter_meta': None, 'comment_text': 'Bashak', 'comment_time': datetime.datetime(2023, 9, 4, 23, 8), 'comment_image': None, 'comment_reactors': [], 'comment_reactions': None, 'comment_reaction_count': None, 'replies': []}, {'comment_id': '321733983671027', 'comment_url': 'https://facebook.com/321733983671027', 'commenter_id': '100088548878148', 'commenter_url': None, 'commenter_name': 'Manha Rehman', 'commenter_meta': None, 'comment_text': 'Beshak', 'comment_time': datetime.datetime(2023, 9, 4, 23, 34), 'comment_image': None, 'comment_reactors': [], 'comment_reactions': None, 'comment_reaction_count': None, 'replies': []}, {'comment_id': '676228211100325', 'comment_url': 'https://facebook.com/676228211100325', 'commenter_id': '100027280841727', 'commenter_url': None, 'commenter_name': 'Mhomad Afzal Mhomd Afzal', 'commenter_meta': None, 'comment_text': 'Beshak', 'comment_time': None, 'comment_image': None, 'comment_reactors': [], 'comment_reactions': None, 'comment_reaction_count': None, 'replies': []}, {'comment_id': '831748998655511', 'comment_url': 'https://facebook.com/831748998655511', 'commenter_id': '100095323642811', 'commenter_url': None, 'commenter_name': 'Ch Wasif', 'commenter_meta': None, 'comment_text': 'This is my mind', 'comment_time': None, 'comment_image': None, 'comment_reactors': [], 'comment_reactions': None, 'comment_reaction_count': None, 'replies': []}, {'comment_id': '139272029250501', 'comment_url': 'https://facebook.com/139272029250501', 'commenter_id': '100022279847060', 'commenter_url': None, 'commenter_name': 'Farzeen Runab', 'commenter_meta': None, 'comment_text': 'BiBi Fatima SA ki sahi Perwai kerni hai...aur Un se Mawaddat rakhni hai...to sab se pehle unke Dushmano Qatilon aur unka Haq ghasab kerne walo per Lanat bhejni hogy', 'comment_time': None, 'comment_image': None, 'comment_reactors': [], 'comment_reactions': None, 'comment_reaction_count': None, 'replies': []}, {'comment_id': '818080903027138', 'comment_url': 'https://facebook.com/818080903027138', 'commenter_id': '100033501873550', 'commenter_url': None, 'commenter_name': 'Parwaiz Khan Zarkoon', 'commenter_meta': None, 'comment_text': 'Beshak', 'comment_time': datetime.datetime(2023, 9, 4, 23, 0), 'comment_image': None, 'comment_reactors': [], 'comment_reactions': None, 'comment_reaction_count': None, 'replies': []}, {'comment_id': '1045686809855338', 'comment_url': 'https://facebook.com/1045686809855338', 'commenter_id': '100063309225099', 'commenter_url': None, 'commenter_name': 'جنید علی', 'commenter_meta': None, 'comment_text': 'Bibi paak as jesi naa koi hai na koi Ban skti hain. Bas Bibi paak as ki Taleemat pa amal karein', 'comment_time': None, 'comment_image': None, 'comment_reactors': [], 'comment_reactions': None, 'comment_reaction_count': None, 'replies': []}, {'comment_id': '265111429806261', 'comment_url': 'https://facebook.com/265111429806261', 'commenter_id': '100067746933151', 'commenter_url': None, 'commenter_name': \"Nature's Way USA Manufactured Supplements\", 'commenter_meta': None, 'comment_text': 'Bashak', 'comment_time': None, 'comment_image': None, 'comment_reactors': [], 'comment_reactions': None, 'comment_reaction_count': None, 'replies': []}, {'comment_id': '681302503520208', 'comment_url': 'https://facebook.com/681302503520208', 'commenter_id': '100075702632605', 'commenter_url': None, 'commenter_name': 'Muhammad Saleem', 'commenter_meta': None, 'comment_text': 'Inshallah', 'comment_time': None, 'comment_image': None, 'comment_reactors': [], 'comment_reactions': None, 'comment_reaction_count': None, 'replies': []}, {'comment_id': '1484001729100249', 'comment_url': 'https://facebook.com/1484001729100249', 'commenter_id': '100058388271910', 'commenter_url': None, 'commenter_name': 'Tayyab Khan', 'commenter_meta': None, 'comment_text': 'Perfectly said...', 'comment_time': None, 'comment_image': None, 'comment_reactors': [], 'comment_reactions': None, 'comment_reaction_count': None, 'replies': []}, {'comment_id': '838336567646802', 'comment_url': 'https://facebook.com/838336567646802', 'commenter_id': '100009424549173', 'commenter_url': None, 'commenter_name': 'Taiyab Qureshi', 'commenter_meta': None, 'comment_text': 'INSHA ALLAH', 'comment_time': datetime.datetime(2023, 9, 4, 23, 46), 'comment_image': None, 'comment_reactors': [], 'comment_reactions': None, 'comment_reaction_count': None, 'replies': []}, {'comment_id': '1021917642169936', 'comment_url': 'https://facebook.com/1021917642169936', 'commenter_id': '100010957484287', 'commenter_url': None, 'commenter_name': 'Waseem Bhatti', 'commenter_meta': None, 'comment_text': 'Beshak', 'comment_time': None, 'comment_image': None, 'comment_reactors': [], 'comment_reactions': None, 'comment_reaction_count': None, 'replies': []}, {'comment_id': '849835829889285', 'comment_url': 'https://facebook.com/849835829889285', 'commenter_id': '100000178486568', 'commenter_url': None, 'commenter_name': 'BK Chauhan', 'commenter_meta': None, 'comment_text': 'I have already FATIMA ❤️', 'comment_time': datetime.datetime(2023, 9, 4, 23, 0), 'comment_image': None, 'comment_reactors': [], 'comment_reactions': None, 'comment_reaction_count': None, 'replies': []}, {'comment_id': '1484152788997852', 'comment_url': 'https://facebook.com/1484152788997852', 'commenter_id': '100064006790065', 'commenter_url': None, 'commenter_name': 'Malik Arslan', 'commenter_meta': None, 'comment_text': '💯 beshak', 'comment_time': None, 'comment_image': None, 'comment_reactors': [], 'comment_reactions': None, 'comment_reaction_count': None, 'replies': []}, {'comment_id': '877628960393888', 'comment_url': 'https://facebook.com/877628960393888', 'commenter_id': '61550884680718', 'commenter_url': None, 'commenter_name': 'Hina Choudry', 'commenter_meta': None, 'comment_text': 'Beshaq', 'comment_time': datetime.datetime(2023, 9, 4, 23, 0), 'comment_image': None, 'comment_reactors': [], 'comment_reactions': None, 'comment_reaction_count': None, 'replies': []}, {'comment_id': '293117463346365', 'comment_url': 'https://facebook.com/293117463346365', 'commenter_id': '100084051378139', 'commenter_url': None, 'commenter_name': 'Niaz Baloch', 'commenter_meta': None, 'comment_text': '🖤🥰', 'comment_time': datetime.datetime(2023, 9, 4, 23, 0), 'comment_image': None, 'comment_reactors': [], 'comment_reactions': None, 'comment_reaction_count': None, 'replies': []}, {'comment_id': '1692623121203336', 'comment_url': 'https://facebook.com/1692623121203336', 'commenter_id': '100093603109979', 'commenter_url': None, 'commenter_name': 'Sharaan Dy Shair', 'commenter_meta': None, 'comment_text': '🌹💕', 'comment_time': datetime.datetime(2023, 9, 4, 23, 0), 'comment_image': None, 'comment_reactors': [], 'comment_reactions': None, 'comment_reaction_count': None, 'replies': []}, {'comment_id': '258352386519541', 'comment_url': 'https://facebook.com/258352386519541', 'commenter_id': '100056065285098', 'commenter_url': None, 'commenter_name': 'Ameer Hamza', 'commenter_meta': None, 'comment_text': 'Sendrela is best option', 'comment_time': datetime.datetime(2023, 9, 4, 23, 52), 'comment_image': None, 'comment_reactors': [], 'comment_reactions': None, 'comment_reaction_count': None, 'replies': []}, {'comment_id': '1215158362488615', 'comment_url': 'https://facebook.com/1215158362488615', 'commenter_id': '100070322887973', 'commenter_url': None, 'commenter_name': 'ะะ ะะ', 'commenter_meta': None, 'comment_text': '♥️♥️♥️', 'comment_time': None, 'comment_image': None, 'comment_reactors': [], 'comment_reactions': None, 'comment_reaction_count': None, 'replies': []}, {'comment_id': '214248931630225', 'comment_url': 'https://facebook.com/214248931630225', 'commenter_id': '100050787754065', 'commenter_url': None, 'commenter_name': 'Khusnuma Khan', 'commenter_meta': None, 'comment_text': 'Bashak', 'comment_time': None, 'comment_image': None, 'comment_reactors': [], 'comment_reactions': None, 'comment_reaction_count': None, 'replies': []}, {'comment_id': '819701879628598', 'comment_url': 'https://facebook.com/819701879628598', 'commenter_id': '100039620192614', 'commenter_url': None, 'commenter_name': 'Shakil Imran', 'commenter_meta': None, 'comment_text': 'Fatima binte Muhammad S.A. Koi ban he nahi skti.. Fatima S.A. Aik he hain. Likho Fatima S.A ki kaneez banaye', 'comment_time': None, 'comment_image': None, 'comment_reactors': [], 'comment_reactions': None, 'comment_reaction_count': None, 'replies': []}, {'comment_id': '1657020478141667', 'comment_url': 'https://facebook.com/1657020478141667', 'commenter_id': '100093989581607', 'commenter_url': None, 'commenter_name': 'Bint E Shoaib', 'commenter_meta': None, 'comment_text': '🥰', 'comment_time': datetime.datetime(2023, 9, 4, 23, 0), 'comment_image': None, 'comment_reactors': [], 'comment_reactions': None, 'comment_reaction_count': None, 'replies': []}, {'comment_id': '684833560211197', 'comment_url': 'https://facebook.com/684833560211197', 'commenter_id': '100009126144778', 'commenter_url': None, 'commenter_name': 'Hareem Fatima', 'commenter_meta': None, 'comment_text': 'میں قربان جاؤں آپنی پیاری بی بی سیدہ فاطمتہ الزہرا سلام اللہ علیہا پر ❤️❤️❤️', 'comment_time': datetime.datetime(2023, 9, 4, 23, 44), 'comment_image': None, 'comment_reactors': [], 'comment_reactions': None, 'comment_reaction_count': None, 'replies': []}, {'comment_id': '246390595049886', 'comment_url': 'https://facebook.com/246390595049886', 'commenter_id': '100031928811241', 'commenter_url': None, 'commenter_name': 'Muhammad Ali Ali', 'commenter_meta': None, 'comment_text': 'G', 'comment_time': None, 'comment_image': None, 'comment_reactors': [], 'comment_reactions': None, 'comment_reaction_count': None, 'replies': []}, {'comment_id': '1250272999012374', 'comment_url': 'https://facebook.com/1250272999012374', 'commenter_id': '100067077188077', 'commenter_url': None, 'commenter_name': 'Subhan Rashid', 'commenter_meta': None, 'comment_text': 'MashaAllah', 'comment_time': None, 'comment_image': None, 'comment_reactors': [], 'comment_reactions': None, 'comment_reaction_count': None, 'replies': []}, {'comment_id': '713785617255878', 'comment_url': 'https://facebook.com/713785617255878', 'commenter_id': '100000519036196', 'commenter_url': None, 'commenter_name': 'Laraib Khan', 'commenter_meta': None, 'comment_text': 'Fatima binte Rasool aik hi thi, unky Aousaaf apna sakty hain unki seerat p chalny ki koshish kar sakty hain, your words are not appropriate', 'comment_time': None, 'comment_image': None, 'comment_reactors': [], 'comment_reactions': None, 'comment_reaction_count': None, 'replies': []}, {'comment_id': '3476787222533467', 'comment_url': 'https://facebook.com/3476787222533467', 'commenter_id': '100040809313246', 'commenter_url': None, 'commenter_name': 'Qaisar Abbas', 'commenter_meta': None, 'comment_text': 'FaTimA BinTe Muhammed SaLLaLLaho Alehi Wo AALehi Wassallam, Koi Nahin Ban SakTi Haan KaneeZ Zaroor Ban SakTi HaY.', 'comment_time': datetime.datetime(2023, 9, 4, 23, 36), 'comment_image': None, 'comment_reactors': [], 'comment_reactions': None, 'comment_reaction_count': None, 'replies': []}, {'comment_id': '974247393860230', 'comment_url': 'https://facebook.com/974247393860230', 'commenter_id': '100093499740333', 'commenter_url': None, 'commenter_name': 'Sakshin Dcuz', 'commenter_meta': None, 'comment_text': '❤❤❤', 'comment_time': None, 'comment_image': None, 'comment_reactors': [], 'comment_reactions': None, 'comment_reaction_count': None, 'replies': []}, {'comment_id': '294694756489833', 'comment_url': 'https://facebook.com/294694756489833', 'commenter_id': '100012133007076', 'commenter_url': None, 'commenter_name': 'Fiaz Khan Gurmani Balooch', 'commenter_meta': None, 'comment_text': 'Fiaz Khan Gurmani Balooch', 'comment_time': None, 'comment_image': None, 'comment_reactors': [], 'comment_reactions': None, 'comment_reaction_count': None, 'replies': []}, {'comment_id': '853265043025530', 'comment_url': 'https://facebook.com/853265043025530', 'commenter_id': '100018798648039', 'commenter_url': None, 'commenter_name': 'Ayaz Magray', 'commenter_meta': None, 'comment_text': 'Beshaq..', 'comment_time': None, 'comment_image': None, 'comment_reactors': [], 'comment_reactions': None, 'comment_reaction_count': None, 'replies': []}, {'comment_id': '262366856751336', 'comment_url': 'https://facebook.com/262366856751336', 'commenter_id': '100052592054164', 'commenter_url': None, 'commenter_name': 'M Usman Dasti', 'commenter_meta': None, 'comment_text': 'Bskuk', 'comment_time': None, 'comment_image': None, 'comment_reactors': [], 'comment_reactions': None, 'comment_reaction_count': None, 'replies': []}, {'comment_id': '1981636045538763', 'comment_url': 'https://facebook.com/1981636045538763', 'commenter_id': '100090986839413', 'commenter_url': None, 'commenter_name': 'Isha Isha', 'commenter_meta': None, 'comment_text': 'Beshaq', 'comment_time': datetime.datetime(2023, 9, 4, 23, 53), 'comment_image': None, 'comment_reactors': [], 'comment_reactions': None, 'comment_reaction_count': None, 'replies': []}, {'comment_id': '290005553650534', 'comment_url': 'https://facebook.com/290005553650534', 'commenter_id': '100001705453066', 'commenter_url': None, 'commenter_name': 'Han Ri Da', 'commenter_meta': None, 'comment_text': 'Aur apne betay ko ali bhi banain, fatima aise hi har kisi ko nai milti, uske liye ali ke level par jana parhta hai, muslim mardon ko woh kaam krte maut aati hai, khud yeh har cheez ki khuli azadi chahtay hain lekin muslim aurat honi chahiye farishton se bhi bharh ke', 'comment_time': datetime.datetime(2023, 9, 4, 23, 0), 'comment_image': None, 'comment_reactors': [], 'comment_reactions': None, 'comment_reaction_count': None, 'replies': []}, {'comment_id': '1396584160921347', 'comment_url': 'https://facebook.com/1396584160921347', 'commenter_id': '100012700487575', 'commenter_url': None, 'commenter_name': 'Ghulam Shbbir', 'commenter_meta': None, 'comment_text': 'Byshk', 'comment_time': datetime.datetime(2023, 9, 4, 23, 0), 'comment_image': None, 'comment_reactors': [], 'comment_reactions': None, 'comment_reaction_count': None, 'replies': []}, {'comment_id': '1755374924934098', 'comment_url': 'https://facebook.com/1755374924934098', 'commenter_id': '100080347162481', 'commenter_url': None, 'commenter_name': 'Choti Lulli Wale', 'commenter_meta': None, 'comment_text': 'ہاں تاکہ تم لوگ پھر سے اس کا حق چوری کرو جیسا کہ تمھارے پیروں نے کی۔', 'comment_time': None, 'comment_image': None, 'comment_reactors': [], 'comment_reactions': None, 'comment_reaction_count': None, 'replies': []}], 'reactors': None, 'w3_fb_url': None, 'reactions': None, 'reaction_count': 16317, 'with': None, 'page_id': None, 'sharers': None, 'image_id': None, 'image_ids': []}\n"
     ]
    }
   ],
   "source": [
    "# # get the post (this gives a generator)\n",
    "# gen = fs.get_posts(\n",
    "#     post_urls=POST_ID,\n",
    "#     options={\"comments\": MAX_COMMENTS, \"progress\": True}\n",
    "# )\n",
    "# # take 1st element of the generator which is the post we requested\n",
    "\n",
    "# post = next(gen)\n",
    "# print(post)"
   ]
  },
  {
   "cell_type": "code",
   "execution_count": 71,
   "metadata": {},
   "outputs": [
    {
     "name": "stdout",
     "output_type": "stream",
     "text": [
      "[{'comment_id': '1274966706552035', 'comment_url': 'https://facebook.com/1274966706552035', 'commenter_id': '61550105896406', 'commenter_url': None, 'commenter_name': 'M R Syco', 'commenter_meta': None, 'comment_text': 'Ameen inshallah', 'comment_time': None, 'comment_image': None, 'comment_reactors': [], 'comment_reactions': None, 'comment_reaction_count': None, 'replies': []}, {'comment_id': '658806652642300', 'comment_url': 'https://facebook.com/658806652642300', 'commenter_id': '100082533101842', 'commenter_url': None, 'commenter_name': 'Kashmiri Sarkar', 'commenter_meta': None, 'comment_text': 'Insha allah', 'comment_time': datetime.datetime(2023, 9, 4, 23, 52), 'comment_image': None, 'comment_reactors': [], 'comment_reactions': None, 'comment_reaction_count': None, 'replies': []}, {'comment_id': '686124262958341', 'comment_url': 'https://facebook.com/686124262958341', 'commenter_id': '100094329271426', 'commenter_url': None, 'commenter_name': 'Ayaz Ali Abro', 'commenter_meta': None, 'comment_text': '🌹❣️', 'comment_time': datetime.datetime(2023, 9, 4, 23, 34), 'comment_image': None, 'comment_reactors': [], 'comment_reactions': None, 'comment_reaction_count': None, 'replies': []}, {'comment_id': '2002835260053861', 'comment_url': 'https://facebook.com/2002835260053861', 'commenter_id': '100056081439782', 'commenter_url': None, 'commenter_name': 'ÃrsHád Álwáxírì', 'commenter_meta': None, 'comment_text': '❤️😘', 'comment_time': datetime.datetime(2023, 9, 4, 23, 28), 'comment_image': None, 'comment_reactors': [], 'comment_reactions': None, 'comment_reaction_count': None, 'replies': []}, {'comment_id': '4035187566708031', 'comment_url': 'https://facebook.com/4035187566708031', 'commenter_id': '61550913416852', 'commenter_url': None, 'commenter_name': \"One Line Poetry's\", 'commenter_meta': None, 'comment_text': '❤️', 'comment_time': None, 'comment_image': None, 'comment_reactors': [], 'comment_reactions': None, 'comment_reaction_count': None, 'replies': []}, {'comment_id': '842442190601926', 'comment_url': 'https://facebook.com/842442190601926', 'commenter_id': '100028789612539', 'commenter_url': None, 'commenter_name': 'Aisha Aleem', 'commenter_meta': None, 'comment_text': 'Ameen', 'comment_time': None, 'comment_image': None, 'comment_reactors': [], 'comment_reactions': None, 'comment_reaction_count': None, 'replies': []}, {'comment_id': '2055774178096226', 'comment_url': 'https://facebook.com/2055774178096226', 'commenter_id': '100021377962356', 'commenter_url': None, 'commenter_name': 'Tasneem Memon', 'commenter_meta': None, 'comment_text': 'InshaAallah', 'comment_time': datetime.datetime(2023, 9, 4, 23, 0), 'comment_image': None, 'comment_reactors': [], 'comment_reactions': None, 'comment_reaction_count': None, 'replies': []}, {'comment_id': '6137019953068951', 'comment_url': 'https://facebook.com/6137019953068951', 'commenter_id': '100090348743924', 'commenter_url': None, 'commenter_name': '『 𝐇𝐚𝐬𝐬𝐚𝐧 』⸙ \\U0001fa77', 'commenter_meta': None, 'comment_text': '❤️', 'comment_time': None, 'comment_image': None, 'comment_reactors': [], 'comment_reactions': None, 'comment_reaction_count': None, 'replies': []}, {'comment_id': '2546120375536904', 'comment_url': 'https://facebook.com/2546120375536904', 'commenter_id': '100082237762364', 'commenter_url': None, 'commenter_name': 'Syeda Sabiha', 'commenter_meta': None, 'comment_text': 'Hayeeee🙊🙊❣️❣️\\n💞Inshallah♥️♥️♥️', 'comment_time': datetime.datetime(2023, 9, 4, 23, 28), 'comment_image': None, 'comment_reactors': [], 'comment_reactions': None, 'comment_reaction_count': None, 'replies': []}, {'comment_id': '850013409828938', 'comment_url': 'https://facebook.com/850013409828938', 'commenter_id': '100060723248455', 'commenter_url': None, 'commenter_name': 'Malang Khan', 'commenter_meta': None, 'comment_text': 'انشاءآلله❤❤الله آمین.', 'comment_time': datetime.datetime(2023, 9, 4, 23, 0), 'comment_image': None, 'comment_reactors': [], 'comment_reactions': None, 'comment_reaction_count': None, 'replies': []}]\n",
      "{'comment_id': '1274966706552035', 'comment_url': 'https://facebook.com/1274966706552035', 'commenter_id': '61550105896406', 'commenter_url': None, 'commenter_name': 'M R Syco', 'commenter_meta': None, 'comment_text': 'Ameen inshallah', 'comment_time': None, 'comment_image': None, 'comment_reactors': [], 'comment_reactions': None, 'comment_reaction_count': None, 'replies': []}\n",
      "{'comment_id': '658806652642300', 'comment_url': 'https://facebook.com/658806652642300', 'commenter_id': '100082533101842', 'commenter_url': None, 'commenter_name': 'Kashmiri Sarkar', 'commenter_meta': None, 'comment_text': 'Insha allah', 'comment_time': datetime.datetime(2023, 9, 4, 23, 52), 'comment_image': None, 'comment_reactors': [], 'comment_reactions': None, 'comment_reaction_count': None, 'replies': []}\n",
      "{'comment_id': '686124262958341', 'comment_url': 'https://facebook.com/686124262958341', 'commenter_id': '100094329271426', 'commenter_url': None, 'commenter_name': 'Ayaz Ali Abro', 'commenter_meta': None, 'comment_text': '🌹❣️', 'comment_time': datetime.datetime(2023, 9, 4, 23, 34), 'comment_image': None, 'comment_reactors': [], 'comment_reactions': None, 'comment_reaction_count': None, 'replies': []}\n",
      "{'comment_id': '2002835260053861', 'comment_url': 'https://facebook.com/2002835260053861', 'commenter_id': '100056081439782', 'commenter_url': None, 'commenter_name': 'ÃrsHád Álwáxírì', 'commenter_meta': None, 'comment_text': '❤️😘', 'comment_time': datetime.datetime(2023, 9, 4, 23, 28), 'comment_image': None, 'comment_reactors': [], 'comment_reactions': None, 'comment_reaction_count': None, 'replies': []}\n",
      "{'comment_id': '4035187566708031', 'comment_url': 'https://facebook.com/4035187566708031', 'commenter_id': '61550913416852', 'commenter_url': None, 'commenter_name': \"One Line Poetry's\", 'commenter_meta': None, 'comment_text': '❤️', 'comment_time': None, 'comment_image': None, 'comment_reactors': [], 'comment_reactions': None, 'comment_reaction_count': None, 'replies': []}\n",
      "{'comment_id': '842442190601926', 'comment_url': 'https://facebook.com/842442190601926', 'commenter_id': '100028789612539', 'commenter_url': None, 'commenter_name': 'Aisha Aleem', 'commenter_meta': None, 'comment_text': 'Ameen', 'comment_time': None, 'comment_image': None, 'comment_reactors': [], 'comment_reactions': None, 'comment_reaction_count': None, 'replies': []}\n",
      "{'comment_id': '2055774178096226', 'comment_url': 'https://facebook.com/2055774178096226', 'commenter_id': '100021377962356', 'commenter_url': None, 'commenter_name': 'Tasneem Memon', 'commenter_meta': None, 'comment_text': 'InshaAallah', 'comment_time': datetime.datetime(2023, 9, 4, 23, 0), 'comment_image': None, 'comment_reactors': [], 'comment_reactions': None, 'comment_reaction_count': None, 'replies': []}\n",
      "{'comment_id': '6137019953068951', 'comment_url': 'https://facebook.com/6137019953068951', 'commenter_id': '100090348743924', 'commenter_url': None, 'commenter_name': '『 𝐇𝐚𝐬𝐬𝐚𝐧 』⸙ \\U0001fa77', 'commenter_meta': None, 'comment_text': '❤️', 'comment_time': None, 'comment_image': None, 'comment_reactors': [], 'comment_reactions': None, 'comment_reaction_count': None, 'replies': []}\n",
      "{'comment_id': '2546120375536904', 'comment_url': 'https://facebook.com/2546120375536904', 'commenter_id': '100082237762364', 'commenter_url': None, 'commenter_name': 'Syeda Sabiha', 'commenter_meta': None, 'comment_text': 'Hayeeee🙊🙊❣️❣️\\n💞Inshallah♥️♥️♥️', 'comment_time': datetime.datetime(2023, 9, 4, 23, 28), 'comment_image': None, 'comment_reactors': [], 'comment_reactions': None, 'comment_reaction_count': None, 'replies': []}\n",
      "{'comment_id': '850013409828938', 'comment_url': 'https://facebook.com/850013409828938', 'commenter_id': '100060723248455', 'commenter_url': None, 'commenter_name': 'Malang Khan', 'commenter_meta': None, 'comment_text': 'انشاءآلله❤❤الله آمین.', 'comment_time': datetime.datetime(2023, 9, 4, 23, 0), 'comment_image': None, 'comment_reactors': [], 'comment_reactions': None, 'comment_reaction_count': None, 'replies': []}\n"
     ]
    }
   ],
   "source": [
    "# # extract the comments part\n",
    "# comments = post['comments_full']\n",
    "# print(comments)\n",
    "\n",
    "# # process comments as you want...\n",
    "# for comment in comments:\n",
    "\n",
    "#     # e.g. ...print them\n",
    "#     print(comment)\n",
    "\n",
    "#     # e.g. ...get the replies for them\n",
    "#     for reply in comment['replies']:\n",
    "#         print(' ', reply)"
   ]
  },
  {
   "cell_type": "code",
   "execution_count": 72,
   "metadata": {},
   "outputs": [
    {
     "name": "stdout",
     "output_type": "stream",
     "text": [
      "      commenter_name                     comment_text\n",
      "0           M R Syco                  Ameen inshallah\n",
      "1    Kashmiri Sarkar                      Insha allah\n",
      "2      Ayaz Ali Abro                              🌹❣️\n",
      "3    ÃrsHád Álwáxírì                              ❤️😘\n",
      "4  One Line Poetry's                               ❤️\n",
      "5        Aisha Aleem                            Ameen\n",
      "6      Tasneem Memon                      InshaAallah\n",
      "7      『 𝐇𝐚𝐬𝐬𝐚𝐧 』⸙ 🩷                               ❤️\n",
      "8       Syeda Sabiha  Hayeeee🙊🙊❣️❣️\\n💞Inshallah♥️♥️♥️\n",
      "9        Malang Khan            انشاءآلله❤❤الله آمین.\n"
     ]
    }
   ],
   "source": [
    "# # Create a list to store comment data\n",
    "# comments_data = []\n",
    "\n",
    "# # Process comments\n",
    "# for comment in comments:\n",
    "#     commenter_name = comment['commenter_name']\n",
    "#     comment_text = comment['comment_text']\n",
    "    \n",
    "#     comments_data.append({'commenter_name': commenter_name, 'comment_text': comment_text})\n",
    "\n",
    "# # Create a DataFrame\n",
    "# df = pd.DataFrame(comments_data)\n",
    "\n",
    "# # Print the DataFrame\n",
    "# print(df)"
   ]
  },
  {
   "cell_type": "markdown",
   "metadata": {},
   "source": [
    "# Model Sentiment Analysis"
   ]
  },
  {
   "cell_type": "code",
   "execution_count": 82,
   "metadata": {},
   "outputs": [
    {
     "name": "stderr",
     "output_type": "stream",
     "text": [
      "Some weights of the model checkpoint at cardiffnlp/twitter-roberta-base-sentiment-latest were not used when initializing RobertaForSequenceClassification: ['roberta.pooler.dense.bias', 'roberta.pooler.dense.weight']\n",
      "- This IS expected if you are initializing RobertaForSequenceClassification from the checkpoint of a model trained on another task or with another architecture (e.g. initializing a BertForSequenceClassification model from a BertForPreTraining model).\n",
      "- This IS NOT expected if you are initializing RobertaForSequenceClassification from the checkpoint of a model that you expect to be exactly identical (initializing a BertForSequenceClassification model from a BertForSequenceClassification model).\n"
     ]
    }
   ],
   "source": [
    "import requests\n",
    "import pandas as pd\n",
    "import numpy as np\n",
    "from transformers import AutoModelForSequenceClassification, AutoTokenizer, AutoConfig\n",
    "from scipy.special import softmax\n",
    "\n",
    "\n",
    "MODEL_NAME = 'cardiffnlp/twitter-roberta-base-sentiment-latest'\n",
    "\n",
    "\n",
    "# Initialize tokenizer and model\n",
    "tokenizer = AutoTokenizer.from_pretrained(MODEL_NAME)\n",
    "config = AutoConfig.from_pretrained(MODEL_NAME)\n",
    "model = AutoModelForSequenceClassification.from_pretrained(MODEL_NAME)"
   ]
  },
  {
   "cell_type": "code",
   "execution_count": 88,
   "metadata": {},
   "outputs": [],
   "source": [
    "# Function to analyze sentiment\n",
    "def analyze_sentiment(text):\n",
    "    encoded_input = tokenizer(text, return_tensors='pt', truncation=True, padding=True, max_length=128)\n",
    "    output = model(**encoded_input)\n",
    "    scores = output.logits[0].detach().numpy()\n",
    "    scores = softmax(scores, axis=0)\n",
    "\n",
    "    # Labels corresponding to sentiment classes\n",
    "    labels = [\"negative\", \"neutral\", \"positive\"]\n",
    "\n",
    "    json_sent = {\n",
    "        \"label\": labels[np.argmax(scores)],\n",
    "        \"probability\": {\n",
    "            \"neg\": scores[0],  # Negative sentiment score\n",
    "            \"neutral\": scores[1],  # Neutral sentiment score\n",
    "            \"pos\": scores[2]  # Positive sentiment score\n",
    "        }\n",
    "    }\n",
    "\n",
    "    return json_sent\n"
   ]
  },
  {
   "cell_type": "code",
   "execution_count": 94,
   "metadata": {},
   "outputs": [
    {
     "name": "stdout",
     "output_type": "stream",
     "text": [
      "   post_index  comment_index  \\\n",
      "0           0              0   \n",
      "1           0              1   \n",
      "2           0              2   \n",
      "3           0              3   \n",
      "4           0              4   \n",
      "\n",
      "                                        comment_text     label       pos  \\\n",
      "0                                            Bilkul♥  positive  0.767797   \n",
      "1                                             Beshak   neutral  0.207550   \n",
      "2                                             Beshak   neutral  0.207550   \n",
      "3  Bibi Fatima s.a ki zindagi ko apnayen unky ama...   neutral  0.027888   \n",
      "4                                       In sha Allah  positive  0.727798   \n",
      "\n",
      "        neg   neutral  \n",
      "0  0.016476  0.215727  \n",
      "1  0.117964  0.674486  \n",
      "2  0.117964  0.674486  \n",
      "3  0.206602  0.765510  \n",
      "4  0.069292  0.202910  \n"
     ]
    }
   ],
   "source": [
    "import pandas as pd\n",
    "import numpy as np\n",
    " \n",
    "# Assuming you already have 'new_df' with the comments\n",
    "\n",
    "# Create a new DataFrame to store sentiment analysis results\n",
    "result_df = pd.DataFrame(columns=['post_index', 'comment_index', 'comment_text', 'label', 'pos', 'neg', 'neutral'])\n",
    "\n",
    "# Iterate through each row in the original DataFrame\n",
    "for index, row in df.iterrows():\n",
    "    comment = row['comment_text']\n",
    "    \n",
    "    # Analyze sentiment for the comment using the analyze_sentiment function\n",
    "    sentiment_result = analyze_sentiment(comment)\n",
    "    \n",
    "    # Add sentiment analysis results to the new DataFrame\n",
    "    result_df.loc[index] = [\n",
    "        row['post_index'],\n",
    "        row['comment_index'],\n",
    "        comment,\n",
    "        sentiment_result['label'],\n",
    "        sentiment_result['probability']['pos'],\n",
    "        sentiment_result['probability']['neg'],\n",
    "        sentiment_result['probability']['neutral']\n",
    "    ]\n",
    "\n",
    "# Print the resulting DataFrame with sentiment analysis results\n",
    "print(result_df.head())  # Print the first 5 entries\n",
    "\n",
    "# Save the DataFrame to a CSV file\n",
    "result_df.to_csv('FaceBook.csv', index=False)"
   ]
  },
  {
   "cell_type": "markdown",
   "metadata": {},
   "source": [
    "##### Calculating the overall sentiment of the comment section"
   ]
  },
  {
   "cell_type": "code",
   "execution_count": 96,
   "metadata": {},
   "outputs": [
    {
     "name": "stdout",
     "output_type": "stream",
     "text": [
      "Sentiment for post https://www.facebook.com/photo?fbid=615932340711500&set=a.205940878377317: neutral\n",
      "Sentiment for post https://www.facebook.com/photo/?fbid=616159327355468&set=a.205940878377317: positive\n"
     ]
    }
   ],
   "source": [
    "# Create a list to store sentiment analysis results for each post\n",
    "result_list = []\n",
    "\n",
    "# Iterate through each post URL\n",
    "for post_index, post_id in enumerate(POST_IDS):\n",
    "    # Filter comments for the current post\n",
    "    post_comments = result_df[df['post_index'] == post_index]\n",
    "\n",
    "    # Calculate weighted averages for positive, negative, and neutral columns\n",
    "    weighted_avg_pos = post_comments['pos'].mean()\n",
    "    weighted_avg_neg = post_comments['neg'].mean()\n",
    "    weighted_avg_neutral = post_comments['neutral'].mean()\n",
    "\n",
    "    # Determine the label based on the greatest weighted average\n",
    "    max_weighted_avg = max(weighted_avg_pos, weighted_avg_neg, weighted_avg_neutral)\n",
    "    label = None\n",
    "    if max_weighted_avg == weighted_avg_pos:\n",
    "        label = 'positive'\n",
    "    elif max_weighted_avg == weighted_avg_neg:\n",
    "        label = 'negative'\n",
    "    else:\n",
    "        label = 'neutral'\n",
    "\n",
    "    # Add sentiment analysis results to the result_list\n",
    "    result_list.append({'post_index': post_index, 'label': label})\n",
    "\n",
    "# Create a DataFrame for the overall sentiment results\n",
    "overall_sentiment_df = pd.DataFrame(result_list)\n",
    "\n",
    "# Print the overall sentiment for each post URL\n",
    "for post_index, label in zip(overall_sentiment_df['post_index'], overall_sentiment_df['label']):\n",
    "    print(f\"Sentiment for post {POST_IDS[post_index]}: {label}\")\n"
   ]
  },
  {
   "cell_type": "code",
   "execution_count": 97,
   "metadata": {},
   "outputs": [
    {
     "name": "stdout",
     "output_type": "stream",
     "text": [
      "weighted_avg_pos  0.4227412\n",
      "weighted_avg_neg  0.101417415\n",
      "weighted_avg_neutral  0.47584134\n",
      "max_weighted_avg  0.47584134\n",
      "The Overall determined sentiment label is: neutral\n"
     ]
    }
   ],
   "source": [
    "# # Calculate weighted average for pos, neg, and neutral columns\n",
    "# weighted_avg_pos = result_df['pos'].mean()\n",
    "# print(\"weighted_avg_pos \", weighted_avg_pos)\n",
    "# weighted_avg_neg = result_df['neg'].mean()\n",
    "# print(\"weighted_avg_neg \", weighted_avg_neg)\n",
    "\n",
    "# weighted_avg_neutral = result_df['neutral'].mean()\n",
    "# print(\"weighted_avg_neutral \", weighted_avg_neutral)\n",
    "\n",
    "\n",
    "# # Determine the label based on the greatest weighted average\n",
    "# max_weighted_avg = max(weighted_avg_pos, weighted_avg_neg, weighted_avg_neutral)\n",
    "# print(\"max_weighted_avg \",max_weighted_avg)\n",
    "# label = None\n",
    "# if max_weighted_avg == weighted_avg_pos:\n",
    "#     label = 'positive'\n",
    "# elif max_weighted_avg == weighted_avg_neg:\n",
    "#     label = 'negative'\n",
    "# else:\n",
    "#     label = 'neutral'\n",
    "\n",
    "# # Print the determined label\n",
    "# print(f\"The Overall determined sentiment label is: {label}\")\n"
   ]
  },
  {
   "cell_type": "markdown",
   "metadata": {},
   "source": [
    "##### Calculating the absolute number of positive/negative/neutral comments"
   ]
  },
  {
   "cell_type": "code",
   "execution_count": 119,
   "metadata": {},
   "outputs": [
    {
     "name": "stdout",
     "output_type": "stream",
     "text": [
      "Total Comments: 104\n",
      "Number of Positive Comments out of 104 = 27\n",
      "Number of Negative Comments out of 104 = 2\n",
      "Number of Neutral Comments out of 104 = 75\n",
      "Total Comments: 27\n",
      "Number of Positive Comments out of 27 = 25\n",
      "Number of Negative Comments out of 27 = 0\n",
      "Number of Neutral Comments out of 27 = 2\n"
     ]
    },
    {
     "name": "stderr",
     "output_type": "stream",
     "text": [
      "C:\\Users\\fahad\\AppData\\Local\\Temp\\ipykernel_10248\\920021035.py:7: UserWarning: Boolean Series key will be reindexed to match DataFrame index.\n",
      "  num_positive_comments = result_df[result_df['label'] == 'positive'][result_df['post_index']==post_index]['comment_text'].count()\n",
      "C:\\Users\\fahad\\AppData\\Local\\Temp\\ipykernel_10248\\920021035.py:8: UserWarning: Boolean Series key will be reindexed to match DataFrame index.\n",
      "  num_negative_comments = result_df[result_df['label'] == 'negative'][result_df['post_index']==post_index]['comment_text'].count()\n",
      "C:\\Users\\fahad\\AppData\\Local\\Temp\\ipykernel_10248\\920021035.py:9: UserWarning: Boolean Series key will be reindexed to match DataFrame index.\n",
      "  num_neutral_comments = result_df[result_df['label'] == 'neutral'][result_df['post_index']==post_index]['comment_text'].count()\n",
      "C:\\Users\\fahad\\AppData\\Local\\Temp\\ipykernel_10248\\920021035.py:7: UserWarning: Boolean Series key will be reindexed to match DataFrame index.\n",
      "  num_positive_comments = result_df[result_df['label'] == 'positive'][result_df['post_index']==post_index]['comment_text'].count()\n",
      "C:\\Users\\fahad\\AppData\\Local\\Temp\\ipykernel_10248\\920021035.py:8: UserWarning: Boolean Series key will be reindexed to match DataFrame index.\n",
      "  num_negative_comments = result_df[result_df['label'] == 'negative'][result_df['post_index']==post_index]['comment_text'].count()\n",
      "C:\\Users\\fahad\\AppData\\Local\\Temp\\ipykernel_10248\\920021035.py:9: UserWarning: Boolean Series key will be reindexed to match DataFrame index.\n",
      "  num_neutral_comments = result_df[result_df['label'] == 'neutral'][result_df['post_index']==post_index]['comment_text'].count()\n"
     ]
    }
   ],
   "source": [
    "# Iterate through each post URL\n",
    "for post_index, post_id in enumerate(POST_IDS):\n",
    "    # Calculate the total number of comments\n",
    "    total_comments = len(result_df[result_df['post_index']==post_index])\n",
    "\n",
    "    # Count the number of positive, negative, and neutral comments\n",
    "    num_positive_comments = result_df[result_df['label'] == 'positive'][result_df['post_index']==post_index]['comment_text'].count()\n",
    "    num_negative_comments = result_df[result_df['label'] == 'negative'][result_df['post_index']==post_index]['comment_text'].count()\n",
    "    num_neutral_comments = result_df[result_df['label'] == 'neutral'][result_df['post_index']==post_index]['comment_text'].count()\n",
    "\n",
    "    # Print the results\n",
    "    print(f\"Total Comments: {total_comments}\")\n",
    "    print(f\"Number of Positive Comments out of {total_comments} = {num_positive_comments}\")\n",
    "    print(f\"Number of Negative Comments out of {total_comments} = {num_negative_comments}\")\n",
    "    print(f\"Number of Neutral Comments out of {total_comments} = {num_neutral_comments}\")\n"
   ]
  },
  {
   "cell_type": "markdown",
   "metadata": {},
   "source": [
    "##### Calculating the percentage of positive/negative/neutral comments"
   ]
  },
  {
   "cell_type": "code",
   "execution_count": 12,
   "metadata": {},
   "outputs": [
    {
     "name": "stdout",
     "output_type": "stream",
     "text": [
      "Percentage of Positive Comments: 31.58%\n",
      "Percentage of Negative Comments: 0.00%\n",
      "Percentage of Neutral Comments: 68.42%\n"
     ]
    }
   ],
   "source": [
    "# # Calculate the percentages of positive, negative, and neutral comments\n",
    "# percentage_positive = (num_positive_comments / total_comments) * 100\n",
    "# percentage_negative = (num_negative_comments / total_comments) * 100\n",
    "# percentage_neutral = (num_neutral_comments / total_comments) * 100\n",
    "\n",
    "# # Print the results\n",
    "# print(f\"Percentage of Positive Comments: {percentage_positive:.2f}%\")\n",
    "# print(f\"Percentage of Negative Comments: {percentage_negative:.2f}%\")\n",
    "# print(f\"Percentage of Neutral Comments: {percentage_neutral:.2f}%\")"
   ]
  },
  {
   "cell_type": "markdown",
   "metadata": {},
   "source": [
    "##### The most common words that appeared in the positive comments"
   ]
  },
  {
   "cell_type": "code",
   "execution_count": 14,
   "metadata": {},
   "outputs": [
    {
     "data": {
      "text/plain": [
       "[('best', 4),\n",
       " ('actor', 1),\n",
       " ('arturul', 1),\n",
       " ('osman', 1),\n",
       " ('alpleds🇹🇷🇧🇷', 1),\n",
       " ('ertugrul', 1),\n",
       " ('team', 1),\n",
       " ('better', 1),\n",
       " ('nice', 1),\n",
       " ('favorite💚', 1)]"
      ]
     },
     "execution_count": 14,
     "metadata": {},
     "output_type": "execute_result"
    }
   ],
   "source": [
    "# from nltk import FreqDist\n",
    "# import operator\n",
    "\n",
    "# import re\n",
    "# #the words that appear he most in positive reviews\n",
    "# import nltk\n",
    "# porter = nltk.PorterStemmer()\n",
    "# list_pos=[]\n",
    "# for i in range(len(result_df.loc[result_df['label'] == 'positive'])):\n",
    "#     list_pos.append(result_df.loc[result_df['label'] == 'positive'][\"textDisplay\"].iloc[i])\n",
    "# lst_words_pos = []\n",
    "# for line in list_pos:\n",
    "#     text_pos = re.split('\\n| |\\?|\\!|\\:|\\\"|\\(|\\)|\\...|\\;',line)\n",
    "#     for word in text_pos:\n",
    "#         if (len(word)>3 and not word.startswith('@') and not word.startswith('#') and word != 'RT'):\n",
    "#             lst_words_pos.append(porter.stem(word.lower()))\n",
    "\n",
    "\n",
    "# dist_pos = FreqDist(lst_words_pos) \n",
    "# sorted_dist_pos = sorted(dist_pos.items(), key=operator.itemgetter(1), reverse=True)\n",
    "# sorted_dist_pos[:50]\n"
   ]
  },
  {
   "cell_type": "markdown",
   "metadata": {},
   "source": [
    "##### A list of the common words that appeared in the negative comments"
   ]
  },
  {
   "cell_type": "code",
   "execution_count": 15,
   "metadata": {},
   "outputs": [
    {
     "data": {
      "text/plain": [
       "[]"
      ]
     },
     "execution_count": 15,
     "metadata": {},
     "output_type": "execute_result"
    }
   ],
   "source": [
    "# list_neg=[]\n",
    "# for i in range(len(result_df.loc[result_df['label'] == 'negative'])):\n",
    "#     list_neg.append(result_df.loc[result_df['label'] == 'negative'][\"textDisplay\"].iloc[i])\n",
    "# lst_words_neg = []\n",
    "# for line in list_neg:\n",
    "#     text_neg = re.split('\\n| |\\?|\\!|\\:|\\\"|\\(|\\)|\\...|\\;',line)\n",
    "#     for word in text_neg:\n",
    "#         if (len(word)>3 and not word.startswith('@') and not word.startswith('#') and word != 'RT'):\n",
    "#             lst_words_neg.append(porter.stem(word.lower()))\n",
    "# dist_neg = FreqDist(lst_words_neg) \n",
    "# sorted_dist_neg = sorted(dist_neg.items(), key=operator.itemgetter(1), reverse=True)\n",
    "# sorted_dist_neg[:50]"
   ]
  },
  {
   "cell_type": "code",
   "execution_count": null,
   "metadata": {},
   "outputs": [],
   "source": []
  }
 ],
 "metadata": {
  "kernelspec": {
   "display_name": ".venv",
   "language": "python",
   "name": "python3"
  },
  "language_info": {
   "codemirror_mode": {
    "name": "ipython",
    "version": 3
   },
   "file_extension": ".py",
   "mimetype": "text/x-python",
   "name": "python",
   "nbconvert_exporter": "python",
   "pygments_lexer": "ipython3",
   "version": "3.11.4"
  },
  "orig_nbformat": 4
 },
 "nbformat": 4,
 "nbformat_minor": 2
}
